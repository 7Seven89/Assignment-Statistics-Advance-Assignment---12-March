{
 "cells": [
  {
   "cell_type": "markdown",
   "id": "c03f85ec-db8b-4449-96ab-c57373833d4b",
   "metadata": {},
   "source": [
    "### Q1. Calculate the 95% confidence interval for a sample of data with a mean of 50 and a standard deviation of 5 using Python. Interpret the results."
   ]
  },
  {
   "cell_type": "code",
   "execution_count": 1,
   "id": "4297afb3-bf8d-4c18-b882-681f6b891244",
   "metadata": {},
   "outputs": [
    {
     "name": "stdout",
     "output_type": "stream",
     "text": [
      "95% Confidence Interval: (np.float64(48.210805856282846), np.float64(51.789194143717154))\n"
     ]
    }
   ],
   "source": [
    "import scipy.stats as stats\n",
    "import numpy as np\n",
    "\n",
    "# Given data\n",
    "mean = 50\n",
    "std_dev = 5\n",
    "n = 30  # Assuming a sample size of 30\n",
    "\n",
    "# Confidence level\n",
    "confidence = 0.95\n",
    "alpha = 1 - confidence\n",
    "\n",
    "# Calculate the critical value for the 95% confidence interval\n",
    "z_critical = stats.norm.ppf(1 - alpha/2)\n",
    "\n",
    "# Calculate the margin of error\n",
    "margin_of_error = z_critical * (std_dev / np.sqrt(n))\n",
    "\n",
    "# Calculate the confidence interval\n",
    "confidence_interval = (mean - margin_of_error, mean + margin_of_error)\n",
    "\n",
    "print(f\"95% Confidence Interval: {confidence_interval}\")"
   ]
  },
  {
   "cell_type": "markdown",
   "id": "f219f1d7-30ce-4a70-953b-ff07f0d081a8",
   "metadata": {},
   "source": []
  },
  {
   "cell_type": "markdown",
   "id": "47ed52d3-906c-4f76-aa15-1802d88c8911",
   "metadata": {},
   "source": [
    "### Q2. Conduct a Chi-Square Goodness of Fit Test to Determine if the Distribution of Colors of M&Ms in a Bag Matches the Expected Distribution of 20% Blue, 20% Orange, 20% Green, 10% Yellow, 10% Red, and 20% Brown. Use Python to Perform the Test with a Significance Level of 0.05.\n",
    "\n",
    "To perform the Chi-Square Goodness of Fit Test, follow these steps:\n",
    "\n",
    "1. **Define the observed frequencies**: The actual counts of each color in the bag.\n",
    "2. **Define the expected frequencies**: Based on the given distribution percentages.\n",
    "3. **Perform the Chi-Square test**: Compare the observed frequencies to the expected frequencies using Python."
   ]
  },
  {
   "cell_type": "code",
   "execution_count": 2,
   "id": "2b12a2dd-0b1e-46b2-a46a-4366c033c982",
   "metadata": {},
   "outputs": [
    {
     "name": "stdout",
     "output_type": "stream",
     "text": [
      "Chi-Square Statistic: 0.9642857142857142\n",
      "P-Value: 0.9653946343724399\n",
      "Fail to reject the null hypothesis: The observed distribution matches the expected distribution.\n"
     ]
    }
   ],
   "source": [
    "import scipy.stats as stats\n",
    "\n",
    "# Given data\n",
    "observed_counts = [25, 30, 28, 15, 12, 30]  # Example observed counts of [blue, orange, green, yellow, red, brown]\n",
    "total_count = sum(observed_counts)\n",
    "\n",
    "# Expected distribution percentages\n",
    "expected_percentages = [0.20, 0.20, 0.20, 0.10, 0.10, 0.20]\n",
    "\n",
    "# Expected counts based on the total number of M&Ms\n",
    "expected_counts = [total_count * p for p in expected_percentages]\n",
    "\n",
    "# Perform the Chi-Square Goodness of Fit Test\n",
    "chi2_stat, p_value = stats.chisquare(f_obs=observed_counts, f_exp=expected_counts)\n",
    "\n",
    "print(f\"Chi-Square Statistic: {chi2_stat}\")\n",
    "print(f\"P-Value: {p_value}\")\n",
    "\n",
    "# Determine if we reject the null hypothesis\n",
    "alpha = 0.05\n",
    "if p_value < alpha:\n",
    "    print(\"Reject the null hypothesis: The observed distribution does not match the expected distribution.\")\n",
    "else:\n",
    "    print(\"Fail to reject the null hypothesis: The observed distribution matches the expected distribution.\")"
   ]
  },
  {
   "cell_type": "markdown",
   "id": "faf80ab8-ee30-4a63-9ce3-7057cb2ad233",
   "metadata": {},
   "source": []
  },
  {
   "cell_type": "markdown",
   "id": "658b2070-f9f2-4ecc-82cf-b11562727fe6",
   "metadata": {},
   "source": [
    "### Q3. Use Python to Calculate the Chi-Square Statistic and P-Value for a Contingency Table with the Following Data:\n",
    "\n",
    "Group A | Group B\n",
    "--- | ---\n",
    "Outcome 1 | 20 | 15\n",
    "Outcome 2 | 10 | 25\n",
    "Outcome 3 | 15 | 20\n",
    "\n",
    "To perform the Chi-Square Test of Independence on this contingency table, follow these steps:\n",
    "\n",
    "1. **Define the contingency table**: A 2D array where each entry represents the observed frequencies for each outcome in each group.\n",
    "2. **Perform the Chi-Square test**: Calculate the Chi-Square statistic and p-value using Python."
   ]
  },
  {
   "cell_type": "code",
   "execution_count": 3,
   "id": "2c935f03-1e62-45a8-8a31-2b45297cb265",
   "metadata": {},
   "outputs": [
    {
     "name": "stdout",
     "output_type": "stream",
     "text": [
      "Chi-Square Statistic: 5.833333333333334\n",
      "P-Value: 0.05411376622282158\n",
      "Fail to reject the null hypothesis: There is no significant association between the outcomes and the groups.\n"
     ]
    }
   ],
   "source": [
    "import scipy.stats as stats\n",
    "import numpy as np\n",
    "\n",
    "# Observed data for the contingency table\n",
    "observed_data = np.array([[20, 15],\n",
    "                          [10, 25],\n",
    "                          [15, 20]])\n",
    "\n",
    "# Perform the Chi-Square Test of Independence\n",
    "chi2_stat, p_value, _, _ = stats.chi2_contingency(observed_data)\n",
    "\n",
    "print(f\"Chi-Square Statistic: {chi2_stat}\")\n",
    "print(f\"P-Value: {p_value}\")\n",
    "\n",
    "# Determine if we reject the null hypothesis\n",
    "alpha = 0.05\n",
    "if p_value < alpha:\n",
    "    print(\"Reject the null hypothesis: There is a significant association between the outcomes and the groups.\")\n",
    "else:\n",
    "    print(\"Fail to reject the null hypothesis: There is no significant association between the outcomes and the groups.\")"
   ]
  },
  {
   "cell_type": "markdown",
   "id": "f112d913-df06-428e-be5f-e118491c4b72",
   "metadata": {},
   "source": []
  },
  {
   "cell_type": "markdown",
   "id": "d25efe74-a4dc-4c91-863c-4db4d0474c30",
   "metadata": {},
   "source": [
    "### Q4. A Study of the Prevalence of Smoking in a Population of 500 Individuals Found that 60 Individuals Smoked. Use Python to Calculate the 95% Confidence Interval for the True Proportion of Individuals in the Population Who Smoke.\n",
    "\n",
    "To calculate the 95% confidence interval for the proportion of individuals who smoke, follow these steps:\n",
    "\n",
    "1. **Define the observed proportion**: The ratio of smokers to the total population.\n",
    "2. **Calculate the standard error**: Based on the observed proportion.\n",
    "3. **Calculate the confidence interval**: Using the normal distribution for the given confidence level."
   ]
  },
  {
   "cell_type": "code",
   "execution_count": 4,
   "id": "24131187-34b3-4775-a8be-c8a2586b29d5",
   "metadata": {},
   "outputs": [
    {
     "name": "stdout",
     "output_type": "stream",
     "text": [
      "95% Confidence Interval for the proportion of individuals who smoke: (np.float64(0.09151638887130707), np.float64(0.1484836111286929))\n"
     ]
    }
   ],
   "source": [
    "import scipy.stats as stats\n",
    "import numpy as np\n",
    "\n",
    "# Given data\n",
    "n = 500  # Total number of individuals\n",
    "x = 60   # Number of individuals who smoke\n",
    "\n",
    "# Observed proportion\n",
    "p_hat = x / n\n",
    "\n",
    "# Confidence level\n",
    "confidence = 0.95\n",
    "alpha = 1 - confidence\n",
    "\n",
    "# Calculate the critical value for the 95% confidence interval\n",
    "z_critical = stats.norm.ppf(1 - alpha / 2)\n",
    "\n",
    "# Calculate the standard error\n",
    "standard_error = np.sqrt((p_hat * (1 - p_hat)) / n)\n",
    "\n",
    "# Calculate the margin of error\n",
    "margin_of_error = z_critical * standard_error\n",
    "\n",
    "# Calculate the confidence interval\n",
    "confidence_interval = (p_hat - margin_of_error, p_hat + margin_of_error)\n",
    "\n",
    "print(f\"95% Confidence Interval for the proportion of individuals who smoke: {confidence_interval}\")"
   ]
  },
  {
   "cell_type": "markdown",
   "id": "04b311ff-5dc2-4147-bce8-e022d2a95fc9",
   "metadata": {},
   "source": []
  },
  {
   "cell_type": "markdown",
   "id": "9bd5ca88-fa24-463c-8379-165b3bf9ece1",
   "metadata": {},
   "source": [
    "### Q5. Calculate the 90% Confidence Interval for a Sample of Data with a Mean of 75 and a Standard Deviation of 12 Using Python. Interpret the Results.\n",
    "\n",
    "To calculate the 90% confidence interval for the sample mean, follow these steps:\n",
    "\n",
    "1. **Define the sample statistics**: Mean and standard deviation.\n",
    "2. **Determine the sample size**: For the confidence interval calculation, an assumed sample size (n) is necessary.\n",
    "3. **Calculate the confidence interval**: Using the appropriate z-score for the 90% confidence level."
   ]
  },
  {
   "cell_type": "code",
   "execution_count": 5,
   "id": "78d66d7f-f8e1-4039-b9c2-faa72e7c6f64",
   "metadata": {},
   "outputs": [
    {
     "name": "stdout",
     "output_type": "stream",
     "text": [
      "90% Confidence Interval: (np.float64(71.39630625889797), np.float64(78.60369374110203))\n"
     ]
    }
   ],
   "source": [
    "import scipy.stats as stats\n",
    "import numpy as np\n",
    "\n",
    "# Given data\n",
    "mean = 75\n",
    "std_dev = 12\n",
    "n = 30  # Assuming a sample size of 30\n",
    "\n",
    "# Confidence level\n",
    "confidence = 0.90\n",
    "alpha = 1 - confidence\n",
    "\n",
    "# Calculate the critical value for the 90% confidence interval\n",
    "z_critical = stats.norm.ppf(1 - alpha / 2)\n",
    "\n",
    "# Calculate the standard error\n",
    "standard_error = std_dev / np.sqrt(n)\n",
    "\n",
    "# Calculate the margin of error\n",
    "margin_of_error = z_critical * standard_error\n",
    "\n",
    "# Calculate the confidence interval\n",
    "confidence_interval = (mean - margin_of_error, mean + margin_of_error)\n",
    "\n",
    "print(f\"90% Confidence Interval: {confidence_interval}\")"
   ]
  },
  {
   "cell_type": "markdown",
   "id": "76a70135-f2d3-4c95-84cf-210f20b240af",
   "metadata": {},
   "source": []
  },
  {
   "cell_type": "markdown",
   "id": "f74e1db4-0b40-4989-a58a-0b6675d232ef",
   "metadata": {},
   "source": [
    "### Q6. Plot the Chi-Square Distribution with 10 Degrees of Freedom Using Python. Label the Axes and Shade the Area Corresponding to a Chi-Square Statistic of 15.\n",
    "\n",
    "To create a plot of the Chi-Square distribution with 10 degrees of freedom and shade the area corresponding to a chi-square statistic of 15, follow these steps:\n",
    "\n",
    "1. **Import the necessary libraries**.\n",
    "2. **Define the degrees of freedom**.\n",
    "3. **Generate the Chi-Square distribution**.\n",
    "4. **Plot the distribution**.\n",
    "5. **Shade the area corresponding to the specified chi-square statistic**."
   ]
  },
  {
   "cell_type": "code",
   "execution_count": 6,
   "id": "0e33e82e-6b2b-4856-8ff9-f7e7605972a1",
   "metadata": {},
   "outputs": [
    {
     "data": {
      "image/png": "[encoded data removed]",
      "text/plain": [
       "<Figure size 1000x600 with 1 Axes>"
      ]
     },
     "metadata": {},
     "output_type": "display_data"
    }
   ],
   "source": [
    "import numpy as np\n",
    "import matplotlib.pyplot as plt\n",
    "import scipy.stats as stats\n",
    "\n",
    "# Parameters\n",
    "df = 10  # Degrees of freedom\n",
    "chi2_stat = 15  # Chi-square statistic to shade\n",
    "\n",
    "# Generate x values (range of chi-square values)\n",
    "x = np.linspace(0, 30, 1000)\n",
    "# Calculate the Chi-Square probability density function (PDF)\n",
    "pdf = stats.chi2.pdf(x, df)\n",
    "\n",
    "# Plot the Chi-Square distribution\n",
    "plt.figure(figsize=(10, 6))\n",
    "plt.plot(x, pdf, 'b-', label=f'Chi-Square Distribution (df={df})')\n",
    "\n",
    "# Shade the area to the right of the chi-square statistic\n",
    "x_fill = np.linspace(chi2_stat, 30, 1000)\n",
    "pdf_fill = stats.chi2.pdf(x_fill, df)\n",
    "plt.fill_between(x_fill, pdf_fill, color='red', alpha=0.5, label=f'Shaded Area for chi2 = {chi2_stat}')\n",
    "\n",
    "# Add labels and title\n",
    "plt.xlabel('Chi-Square Value')\n",
    "plt.ylabel('Probability Density')\n",
    "plt.title('Chi-Square Distribution with 10 Degrees of Freedom')\n",
    "plt.legend()\n",
    "\n",
    "# Show the plot\n",
    "plt.grid(True)\n",
    "plt.show()"
   ]
  },
  {
   "cell_type": "markdown",
   "id": "c684af29-f3ca-4a23-8625-8bcd8ec70366",
   "metadata": {},
   "source": []
  },
  {
   "cell_type": "markdown",
   "id": "f33bd2d9-c8d3-4580-86d8-9a8a60aa6171",
   "metadata": {},
   "source": [
    "### Q7. Calculate a 99% Confidence Interval for the True Proportion of People in the Population Who Prefer Coke Based on a Sample of 1000 People.\n",
    "\n",
    "To calculate the 99% confidence interval for the proportion of people who prefer Coke, follow these steps:\n",
    "\n",
    "1. **Define the sample statistics**: Sample size and number of people who preferred Coke.\n",
    "2. **Calculate the observed proportion**.\n",
    "3. **Determine the standard error**.\n",
    "4. **Calculate the confidence interval**: Using the z-score for the 99% confidence level."
   ]
  },
  {
   "cell_type": "code",
   "execution_count": 7,
   "id": "f0f93bd0-926b-41bb-8211-6bfd50ebdc0e",
   "metadata": {},
   "outputs": [
    {
     "name": "stdout",
     "output_type": "stream",
     "text": [
      "99% Confidence Interval for the proportion of people who prefer Coke: (np.float64(0.4793051576779699), np.float64(0.5606948423220302))\n"
     ]
    }
   ],
   "source": [
    "import scipy.stats as stats\n",
    "import numpy as np\n",
    "\n",
    "# Given data\n",
    "n = 1000  # Total number of people surveyed\n",
    "x = 520   # Number of people who prefer Coke\n",
    "\n",
    "# Observed proportion\n",
    "p_hat = x / n\n",
    "\n",
    "# Confidence level\n",
    "confidence = 0.99\n",
    "alpha = 1 - confidence\n",
    "\n",
    "# Calculate the critical value for the 99% confidence interval\n",
    "z_critical = stats.norm.ppf(1 - alpha / 2)\n",
    "\n",
    "# Calculate the standard error\n",
    "standard_error = np.sqrt((p_hat * (1 - p_hat)) / n)\n",
    "\n",
    "# Calculate the margin of error\n",
    "margin_of_error = z_critical * standard_error\n",
    "\n",
    "# Calculate the confidence interval\n",
    "confidence_interval = (p_hat - margin_of_error, p_hat + margin_of_error)\n",
    "\n",
    "print(f\"99% Confidence Interval for the proportion of people who prefer Coke: {confidence_interval}\")"
   ]
  },
  {
   "cell_type": "markdown",
   "id": "5f335d15-094b-494f-a758-6a08201108a6",
   "metadata": {},
   "source": []
  },
  {
   "cell_type": "markdown",
   "id": "3a009636-c2a2-42ff-9796-2dcaabfaa378",
   "metadata": {},
   "source": [
    "### Q8. Conduct a Chi-Square Goodness of Fit Test to Determine if the Observed Frequencies Match the Expected Frequencies of a Fair Coin. Use a Significance Level of 0.05.\n",
    "\n",
    "To conduct a chi-square goodness of fit test, follow these steps:\n",
    "\n",
    "1. **Define the observed and expected frequencies**.\n",
    "2. **Calculate the chi-square statistic**.\n",
    "3. **Compare the calculated statistic to the critical value or p-value**."
   ]
  },
  {
   "cell_type": "code",
   "execution_count": 8,
   "id": "73df84db-8aee-4e06-a16a-54ba78c5b9ef",
   "metadata": {},
   "outputs": [
    {
     "name": "stdout",
     "output_type": "stream",
     "text": [
      "Chi-Square Statistic: 1.0\n",
      "P-Value: 0.31731050786291115\n",
      "Critical Value at 0.05 significance level: 3.841458820694124\n",
      "Fail to reject the null hypothesis: The observed frequencies match the expected frequencies.\n"
     ]
    }
   ],
   "source": [
    "import scipy.stats as stats\n",
    "\n",
    "# Given data\n",
    "observed_tails = 45\n",
    "total_flips = 100\n",
    "expected_tails = total_flips / 2  # For a fair coin, we expect 50 tails\n",
    "\n",
    "# Observed frequencies\n",
    "observed = [observed_tails, total_flips - observed_tails]  # Tails and Heads\n",
    "\n",
    "# Expected frequencies\n",
    "expected = [expected_tails, total_flips - expected_tails]  # Tails and Heads\n",
    "\n",
    "# Perform the chi-square goodness of fit test\n",
    "chi2_stat, p_value = stats.chisquare(f_obs=observed, f_exp=expected)\n",
    "\n",
    "# Significance level\n",
    "alpha = 0.05\n",
    "\n",
    "# Determine the critical value\n",
    "df = len(observed) - 1  # degrees of freedom\n",
    "critical_value = stats.chi2.ppf(1 - alpha, df)\n",
    "\n",
    "print(f\"Chi-Square Statistic: {chi2_stat}\")\n",
    "print(f\"P-Value: {p_value}\")\n",
    "print(f\"Critical Value at {alpha} significance level: {critical_value}\")\n",
    "\n",
    "# Interpret the results\n",
    "if p_value < alpha:\n",
    "    print(\"Reject the null hypothesis: The observed frequencies do not match the expected frequencies.\")\n",
    "else:\n",
    "    print(\"Fail to reject the null hypothesis: The observed frequencies match the expected frequencies.\")"
   ]
  },
  {
   "cell_type": "markdown",
   "id": "a4ce5259-4477-4af4-9d5a-7066f98ff82e",
   "metadata": {},
   "source": []
  },
  {
   "cell_type": "markdown",
   "id": "925328e6-7483-4c4c-abab-9ec4dc69844d",
   "metadata": {},
   "source": [
    "### Q9. Conduct a Chi-Square Test for Independence to Determine if There is a Significant Association Between Smoking Status and Lung Cancer Diagnosis\n",
    "\n",
    "To perform a chi-square test for independence, follow these steps:\n",
    "\n",
    "1. **Define the observed frequencies** from the contingency table.\n",
    "2. **Calculate the expected frequencies**.\n",
    "3. **Compute the chi-square statistic**.\n",
    "4. **Compare the computed statistic to the critical value or p-value**."
   ]
  },
  {
   "cell_type": "code",
   "execution_count": 9,
   "id": "e25075b6-c3e3-4995-afba-99cb91729f9f",
   "metadata": {},
   "outputs": [
    {
     "name": "stdout",
     "output_type": "stream",
     "text": [
      "Chi-Square Statistic: 12.057347670250895\n",
      "P-Value: 0.0005158863863703744\n",
      "Critical Value at 0.05 significance level: 3.841458820694124\n",
      "Reject the null hypothesis: There is a significant association between smoking status and lung cancer diagnosis.\n"
     ]
    }
   ],
   "source": [
    "import numpy as np\n",
    "import scipy.stats as stats\n",
    "\n",
    "# Given data (contingency table)\n",
    "observed = np.array([[60, 140], [30, 170]])\n",
    "\n",
    "# Perform the chi-square test for independence\n",
    "chi2_stat, p_value, dof, expected = stats.chi2_contingency(observed)\n",
    "\n",
    "# Significance level\n",
    "alpha = 0.05\n",
    "\n",
    "# Determine the critical value\n",
    "critical_value = stats.chi2.ppf(1 - alpha, dof)\n",
    "\n",
    "print(f\"Chi-Square Statistic: {chi2_stat}\")\n",
    "print(f\"P-Value: {p_value}\")\n",
    "print(f\"Critical Value at {alpha} significance level: {critical_value}\")\n",
    "\n",
    "# Interpret the results\n",
    "if p_value < alpha:\n",
    "    print(\"Reject the null hypothesis: There is a significant association between smoking status and lung cancer diagnosis.\")\n",
    "else:\n",
    "    print(\"Fail to reject the null hypothesis: There is no significant association between smoking status and lung cancer diagnosis.\")"
   ]
  },
  {
   "cell_type": "markdown",
   "id": "e9290338-67f2-476d-9550-8d6517c5c8cd",
   "metadata": {},
   "source": []
  },
  {
   "cell_type": "markdown",
   "id": "b51e0f40-f7dc-4141-b9b2-94518ceeeee8",
   "metadata": {},
   "source": [
    "### Q10. Conduct a Chi-Square Test for Independence to Determine if There is a Significant Association Between Chocolate Preference and Country of Origin\n",
    "\n",
    "To perform a chi-square test for independence, follow these steps:\n",
    "\n",
    "1. **Define the observed frequencies** from the contingency table.\n",
    "2. **Calculate the expected frequencies** based on the assumption of independence.\n",
    "3. **Compute the chi-square statistic**.\n",
    "4. **Compare the computed statistic to the critical value or p-value**."
   ]
  },
  {
   "cell_type": "code",
   "execution_count": 10,
   "id": "4b8ca319-8ddb-4b58-8736-d72959032318",
   "metadata": {},
   "outputs": [
    {
     "name": "stdout",
     "output_type": "stream",
     "text": [
      "Chi-Square Statistic: 13.393665158371041\n",
      "P-Value: 0.0012348168997745915\n",
      "Critical Value at 0.01 significance level: 9.21034037197618\n",
      "Reject the null hypothesis: There is a significant association between chocolate preference and country of origin.\n"
     ]
    }
   ],
   "source": [
    "import numpy as np\n",
    "import scipy.stats as stats\n",
    "\n",
    "# Given data (contingency table)\n",
    "observed = np.array([[200, 150, 150], [225, 175, 100]])\n",
    "\n",
    "# Perform the chi-square test for independence\n",
    "chi2_stat, p_value, dof, expected = stats.chi2_contingency(observed)\n",
    "\n",
    "# Significance level\n",
    "alpha = 0.01\n",
    "\n",
    "# Determine the critical value\n",
    "critical_value = stats.chi2.ppf(1 - alpha, dof)\n",
    "\n",
    "print(f\"Chi-Square Statistic: {chi2_stat}\")\n",
    "print(f\"P-Value: {p_value}\")\n",
    "print(f\"Critical Value at {alpha} significance level: {critical_value}\")\n",
    "\n",
    "# Interpret the results\n",
    "if p_value < alpha:\n",
    "    print(\"Reject the null hypothesis: There is a significant association between chocolate preference and country of origin.\")\n",
    "else:\n",
    "    print(\"Fail to reject the null hypothesis: There is no significant association between chocolate preference and country of origin.\")"
   ]
  },
  {
   "cell_type": "markdown",
   "id": "ac6e6dd3-9c0f-449d-a43b-370c67442c98",
   "metadata": {},
   "source": []
  },
  {
   "cell_type": "markdown",
   "id": "ed995e56-ba30-41cc-b120-7d701fb78152",
   "metadata": {},
   "source": [
    "### Q11. Conduct a Hypothesis Test to Determine if the Population Mean is Significantly Different from 70\n",
    "\n",
    "To conduct a hypothesis test for the population mean when the sample size is small and the population standard deviation is unknown, you use the t-test. Here’s how you can perform this test using Python:\n",
    "\n",
    "#### Steps:\n",
    "\n",
    "1. **State the Hypotheses**:\n",
    "   - Null Hypothesis (\\(H_0\\)): The population mean \\(\\mu\\) is 70 (\\(\\mu = 70\\)).\n",
    "   - Alternative Hypothesis (\\(H_a\\)): The population mean \\(\\mu\\) is not 70 (\\(\\mu \\neq 70\\)).\n",
    "\n",
    "2. **Calculate the Test Statistic** using the formula for the t-statistic:\n",
    "   \\[\n",
    "   t = \\frac{\\bar{x} - \\mu_0}{s / \\sqrt{n}}\n",
    "   \\]\n",
    "   where:\n",
    "   - \\(\\bar{x}\\) = sample mean\n",
    "   - \\(\\mu_0\\) = hypothesized population mean\n",
    "   - \\(s\\) = sample standard deviation\n",
    "   - \\(n\\) = sample size\n",
    "\n",
    "3. **Determine the Critical Value** or **p-Value** from the t-distribution with \\(n - 1\\) degrees of freedom.\n",
    "\n",
    "4. **Compare the Test Statistic** to the critical value or use the p-value to determine if the result is significant."
   ]
  },
  {
   "cell_type": "code",
   "execution_count": 11,
   "id": "34a15aa7-dcd2-46e7-9410-034383d4cea8",
   "metadata": {},
   "outputs": [
    {
     "name": "stdout",
     "output_type": "stream",
     "text": [
      "T-Statistic: 1.0954451150103321\n",
      "P-Value: 0.2823362372860698\n",
      "Critical Value at 0.05 significance level: 2.045229642132703\n",
      "Fail to reject the null hypothesis: There is no significant difference between the sample mean and the population mean.\n"
     ]
    }
   ],
   "source": [
    "import scipy.stats as stats\n",
    "\n",
    "# Given data\n",
    "sample_mean = 72\n",
    "sample_std_dev = 10\n",
    "sample_size = 30\n",
    "hypothesized_mean = 70\n",
    "\n",
    "# Calculate the t-statistic\n",
    "t_stat = (sample_mean - hypothesized_mean) / (sample_std_dev / (sample_size ** 0.5))\n",
    "\n",
    "# Degrees of freedom\n",
    "dof = sample_size - 1\n",
    "\n",
    "# Calculate the p-value for a two-tailed test\n",
    "p_value = 2 * (1 - stats.t.cdf(abs(t_stat), dof))\n",
    "\n",
    "# Significance level\n",
    "alpha = 0.05\n",
    "\n",
    "# Determine the critical value\n",
    "critical_value = stats.t.ppf(1 - alpha / 2, dof)\n",
    "\n",
    "print(f\"T-Statistic: {t_stat}\")\n",
    "print(f\"P-Value: {p_value}\")\n",
    "print(f\"Critical Value at {alpha} significance level: {critical_value}\")\n",
    "\n",
    "# Interpret the results\n",
    "if p_value < alpha:\n",
    "    print(\"Reject the null hypothesis: There is a significant difference between the sample mean and the population mean.\")\n",
    "else:\n",
    "    print(\"Fail to reject the null hypothesis: There is no significant difference between the sample mean and the population mean.\")"
   ]
  },
  {
   "cell_type": "markdown",
   "id": "a7b155a6-8c9d-4798-a0b7-1fed0025375c",
   "metadata": {},
   "source": []
  }
 ],
 "metadata": {
  "kernelspec": {
   "display_name": "Python 3 (ipykernel)",
   "language": "python",
   "name": "python3"
  },
  "language_info": {
   "codemirror_mode": {
    "name": "ipython",
    "version": 3
   },
   "file_extension": ".py",
   "mimetype": "text/x-python",
   "name": "python",
   "nbconvert_exporter": "python",
   "pygments_lexer": "ipython3",
   "version": "3.12.5"
  }
 },
 "nbformat": 4,
 "nbformat_minor": 5
}
